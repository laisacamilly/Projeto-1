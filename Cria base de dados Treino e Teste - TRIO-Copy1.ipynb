{
 "cells": [
  {
   "cell_type": "markdown",
   "metadata": {},
   "source": [
    "## [**About Dataset - Kaggle**](https://www.kaggle.com/datasets/malharkhatu/airline-passenger-reviews/datat)\n",
    "\n",
    "### Context\n",
    "\n",
    "This dataset is created to practice various text classification techniques.\n",
    "\n",
    "The text data is collected using praw API from reddit.com.\n",
    "\n",
    "### Mais sobre esses dados\n",
    "\n",
    "No conjunto de dados, comentários na internet foram separados de acordo com o local onde estes foram postados. <br>\n",
    "Os comentários foram separados em três categorias:\n",
    "\n",
    "- **Física**\n",
    "- **Quimica**\n",
    "- **Biologia**\n",
    "\n",
    "<br> \n",
    "\n",
    "**Como você está em um grupo com no máximo 3 alunos, deverá escolher apenas DUAS dessas três categorias.**"
   ]
  },
  {
   "cell_type": "code",
   "execution_count": 1,
   "metadata": {},
   "outputs": [],
   "source": [
    "import pandas as pd\n",
    "import random\n",
    "import os\n",
    "from sklearn.model_selection import train_test_split"
   ]
  },
  {
   "cell_type": "code",
   "execution_count": 2,
   "metadata": {},
   "outputs": [],
   "source": [
    "# Transforma string em inteiro\n",
    "def nome_para_inteiro(nome):\n",
    "    nome = nome.upper()  # Converter para maiúsculas para tratar maiúsculas e minúsculas da mesma forma\n",
    "    valor_inteiro = 0\n",
    "    \n",
    "    for letra in nome:\n",
    "        # Verificar se a letra está no alfabeto (A a Z)\n",
    "        if 'A' <= letra <= 'Z':\n",
    "            valor_inteiro += ord(letra) - ord('A') + 1  # Valor de 'A' é 1, 'B' é 2, ..., 'Z' é 26\n",
    "    \n",
    "    return valor_inteiro"
   ]
  },
  {
   "cell_type": "code",
   "execution_count": 3,
   "metadata": {
    "scrolled": false
   },
   "outputs": [
    {
     "data": {
      "text/plain": [
       "['.ipynb_checkpoints',\n",
       " 'Cria base de dados Treino e Teste - TRIO.ipynb',\n",
       " 'disciplines.csv']"
      ]
     },
     "execution_count": 3,
     "metadata": {},
     "output_type": "execute_result"
    }
   ],
   "source": [
    "os.listdir()"
   ]
  },
  {
   "cell_type": "code",
   "execution_count": 4,
   "metadata": {
    "scrolled": true
   },
   "outputs": [
    {
     "data": {
      "text/html": [
       "<div>\n",
       "<style scoped>\n",
       "    .dataframe tbody tr th:only-of-type {\n",
       "        vertical-align: middle;\n",
       "    }\n",
       "\n",
       "    .dataframe tbody tr th {\n",
       "        vertical-align: top;\n",
       "    }\n",
       "\n",
       "    .dataframe thead th {\n",
       "        text-align: right;\n",
       "    }\n",
       "</style>\n",
       "<table border=\"1\" class=\"dataframe\">\n",
       "  <thead>\n",
       "    <tr style=\"text-align: right;\">\n",
       "      <th></th>\n",
       "      <th>Comment</th>\n",
       "      <th>Topic</th>\n",
       "    </tr>\n",
       "  </thead>\n",
       "  <tbody>\n",
       "    <tr>\n",
       "      <th>0</th>\n",
       "      <td>A few things. You might have negative- frequen...</td>\n",
       "      <td>Biology</td>\n",
       "    </tr>\n",
       "    <tr>\n",
       "      <th>1</th>\n",
       "      <td>Is it so hard to believe that there exist part...</td>\n",
       "      <td>Physics</td>\n",
       "    </tr>\n",
       "    <tr>\n",
       "      <th>2</th>\n",
       "      <td>There are bees</td>\n",
       "      <td>Biology</td>\n",
       "    </tr>\n",
       "    <tr>\n",
       "      <th>3</th>\n",
       "      <td>I'm a medication technician. And that's alot o...</td>\n",
       "      <td>Biology</td>\n",
       "    </tr>\n",
       "    <tr>\n",
       "      <th>4</th>\n",
       "      <td>Cesium is such a pretty metal.</td>\n",
       "      <td>Chemistry</td>\n",
       "    </tr>\n",
       "  </tbody>\n",
       "</table>\n",
       "</div>"
      ],
      "text/plain": [
       "                                             Comment      Topic\n",
       "0  A few things. You might have negative- frequen...    Biology\n",
       "1  Is it so hard to believe that there exist part...    Physics\n",
       "2                                     There are bees    Biology\n",
       "3  I'm a medication technician. And that's alot o...    Biology\n",
       "4                     Cesium is such a pretty metal.  Chemistry"
      ]
     },
     "execution_count": 4,
     "metadata": {},
     "output_type": "execute_result"
    }
   ],
   "source": [
    "# Ler o arquivo de dados \n",
    "dados = pd.read_csv('disciplines.csv', encoding='utf-8-sig')\n",
    "nomes_colunas = ['Comment','Topic']\n",
    "dados = dados[['Comment','Topic']]\n",
    "dados.head()"
   ]
  },
  {
   "cell_type": "code",
   "execution_count": 5,
   "metadata": {
    "scrolled": true
   },
   "outputs": [
    {
     "name": "stdout",
     "output_type": "stream",
     "text": [
      "Escolha DUAS categorias diferentes digitando um número de 1 a 3, sendo \n",
      " 1: \"Biology\"; \n",
      " 2: \"Chemistry\" \n",
      " 3: \"Physics\"\n",
      "Digite primeira categoria escolhida: Chemistry\n",
      "Digite segunda  categoria escolhida: Physics\n"
     ]
    }
   ],
   "source": [
    "print('Escolha DUAS categorias diferentes digitando um número de 1 a 3, sendo \\n',\n",
    "      '1: \"Biology\"; \\n',\n",
    "      '2: \"Chemistry\" \\n',\n",
    "      '3: \"Physics\"')\n",
    "cat1 = input(\"Digite primeira categoria escolhida: \")\n",
    "cat2 = input(\"Digite segunda  categoria escolhida: \")"
   ]
  },
  {
   "cell_type": "code",
   "execution_count": 6,
   "metadata": {},
   "outputs": [
    {
     "name": "stdout",
     "output_type": "stream",
     "text": [
      "Digite seu username: joaolbsl\n"
     ]
    }
   ],
   "source": [
    "nome = input(\"Digite seu username: \")\n",
    "valor_inteiro = nome_para_inteiro(nome)"
   ]
  },
  {
   "cell_type": "code",
   "execution_count": 7,
   "metadata": {},
   "outputs": [
    {
     "data": {
      "text/plain": [
       "(10281, 2)"
      ]
     },
     "execution_count": 7,
     "metadata": {},
     "output_type": "execute_result"
    }
   ],
   "source": [
    "# Filtrar dados de acordo com as escolhas das categorias\n",
    "cats = [cat1, cat2]\n",
    "if '1' in cats and '2' in cats:\n",
    "    dados = dados.loc[ (dados.Topic == \"Biology\") | (dados.Topic == 'Chemistry')].copy()\n",
    "if '1' in cats and '3' in cats:\n",
    "    dados = dados.loc[ (dados.Topic == \"Biology\") | (dados.Topic == 'Physics')].copy()\n",
    "if '2' in cats and '3' in cats:\n",
    "    dados = dados.loc[ (dados.Topic == \"Chemistry\") | (dados.Topic == 'Physics')].copy()\n",
    "    \n",
    "dados.shape"
   ]
  },
  {
   "cell_type": "code",
   "execution_count": 8,
   "metadata": {},
   "outputs": [
    {
     "data": {
      "text/html": [
       "<div>\n",
       "<style scoped>\n",
       "    .dataframe tbody tr th:only-of-type {\n",
       "        vertical-align: middle;\n",
       "    }\n",
       "\n",
       "    .dataframe tbody tr th {\n",
       "        vertical-align: top;\n",
       "    }\n",
       "\n",
       "    .dataframe thead th {\n",
       "        text-align: right;\n",
       "    }\n",
       "</style>\n",
       "<table border=\"1\" class=\"dataframe\">\n",
       "  <thead>\n",
       "    <tr style=\"text-align: right;\">\n",
       "      <th></th>\n",
       "      <th>Comment</th>\n",
       "      <th>Topic</th>\n",
       "    </tr>\n",
       "  </thead>\n",
       "  <tbody>\n",
       "    <tr>\n",
       "      <th>0</th>\n",
       "      <td>A few things. You might have negative- frequen...</td>\n",
       "      <td>Biology</td>\n",
       "    </tr>\n",
       "    <tr>\n",
       "      <th>1</th>\n",
       "      <td>Is it so hard to believe that there exist part...</td>\n",
       "      <td>Physics</td>\n",
       "    </tr>\n",
       "    <tr>\n",
       "      <th>2</th>\n",
       "      <td>There are bees</td>\n",
       "      <td>Biology</td>\n",
       "    </tr>\n",
       "    <tr>\n",
       "      <th>3</th>\n",
       "      <td>I'm a medication technician. And that's alot o...</td>\n",
       "      <td>Biology</td>\n",
       "    </tr>\n",
       "    <tr>\n",
       "      <th>4</th>\n",
       "      <td>Cesium is such a pretty metal.</td>\n",
       "      <td>Chemistry</td>\n",
       "    </tr>\n",
       "    <tr>\n",
       "      <th>...</th>\n",
       "      <td>...</td>\n",
       "      <td>...</td>\n",
       "    </tr>\n",
       "    <tr>\n",
       "      <th>10276</th>\n",
       "      <td>I’m not really denying your intent. I’m a) dou...</td>\n",
       "      <td>Chemistry</td>\n",
       "    </tr>\n",
       "    <tr>\n",
       "      <th>10277</th>\n",
       "      <td>i really empathize with your compassion for bu...</td>\n",
       "      <td>Biology</td>\n",
       "    </tr>\n",
       "    <tr>\n",
       "      <th>10278</th>\n",
       "      <td>If you want to keep it for more than 2 weeks, ...</td>\n",
       "      <td>Chemistry</td>\n",
       "    </tr>\n",
       "    <tr>\n",
       "      <th>10279</th>\n",
       "      <td>Same here. I’m in nursing school so I only hav...</td>\n",
       "      <td>Biology</td>\n",
       "    </tr>\n",
       "    <tr>\n",
       "      <th>10280</th>\n",
       "      <td>The video basically says read a pop-sci book a...</td>\n",
       "      <td>Physics</td>\n",
       "    </tr>\n",
       "  </tbody>\n",
       "</table>\n",
       "<p>10281 rows × 2 columns</p>\n",
       "</div>"
      ],
      "text/plain": [
       "                                                 Comment      Topic\n",
       "0      A few things. You might have negative- frequen...    Biology\n",
       "1      Is it so hard to believe that there exist part...    Physics\n",
       "2                                         There are bees    Biology\n",
       "3      I'm a medication technician. And that's alot o...    Biology\n",
       "4                         Cesium is such a pretty metal.  Chemistry\n",
       "...                                                  ...        ...\n",
       "10276  I’m not really denying your intent. I’m a) dou...  Chemistry\n",
       "10277  i really empathize with your compassion for bu...    Biology\n",
       "10278  If you want to keep it for more than 2 weeks, ...  Chemistry\n",
       "10279  Same here. I’m in nursing school so I only hav...    Biology\n",
       "10280  The video basically says read a pop-sci book a...    Physics\n",
       "\n",
       "[10281 rows x 2 columns]"
      ]
     },
     "execution_count": 8,
     "metadata": {},
     "output_type": "execute_result"
    }
   ],
   "source": [
    "dados"
   ]
  },
  {
   "cell_type": "code",
   "execution_count": 9,
   "metadata": {},
   "outputs": [
    {
     "data": {
      "text/plain": [
       "Index(['Comment', 'Topic'], dtype='object')"
      ]
     },
     "execution_count": 9,
     "metadata": {},
     "output_type": "execute_result"
    }
   ],
   "source": [
    "# Embaralhar as linhas do conjunto de dados\n",
    "dados_embaralhados = dados.sample(frac=5000/dados.shape[0], random_state=valor_inteiro)\n",
    "dados_embaralhados.columns"
   ]
  },
  {
   "cell_type": "code",
   "execution_count": 10,
   "metadata": {},
   "outputs": [],
   "source": [
    "# Separar os dados de treino e teste \n",
    "X = dados_embaralhados.Comment\n",
    "y = dados_embaralhados.Topic\n",
    "X_train, X_test, y_train, y_test = train_test_split(X, y, test_size=0.30, random_state=valor_inteiro)\n",
    "\n",
    "dados_treino = pd.concat([X_train, y_train],axis=1)\n",
    "dados_treino.columns = nomes_colunas\n",
    "dados_teste = pd.concat([X_test, y_test],axis=1)\n",
    "dados_teste.columns = nomes_colunas\n",
    "   "
   ]
  },
  {
   "cell_type": "code",
   "execution_count": 11,
   "metadata": {
    "scrolled": true
   },
   "outputs": [
    {
     "name": "stdout",
     "output_type": "stream",
     "text": [
      "Biology      0.402000\n",
      "Chemistry    0.338857\n",
      "Physics      0.259143\n",
      "Name: Topic, dtype: float64\n",
      "Biology      0.409333\n",
      "Chemistry    0.344667\n",
      "Physics      0.246000\n",
      "Name: Topic, dtype: float64\n"
     ]
    }
   ],
   "source": [
    "print(dados_treino.Topic.value_counts(True))\n",
    "print(dados_teste.Topic.value_counts(True))"
   ]
  },
  {
   "cell_type": "code",
   "execution_count": 12,
   "metadata": {},
   "outputs": [
    {
     "name": "stdout",
     "output_type": "stream",
     "text": [
      "Dados de treino e teste foram salvos em 'dados_treino_TRIO_joaolbsl.csv' e 'dados_teste_TRIO_joaolbsl.csv'.\n"
     ]
    }
   ],
   "source": [
    "# Salvar os dados de treino e teste em arquivos CSV\n",
    "nome_arquivo_treino = 'dados_treino_TRIO_'+nome+'.csv'\n",
    "nome_arquivo_teste = 'dados_teste_TRIO_'+nome+'.csv'\n",
    "\n",
    "dados_treino.to_csv(nome_arquivo_treino,index = False, header=True)\n",
    "dados_teste.to_csv(nome_arquivo_teste, index=False)#, engine='xlsxwriter')\n",
    "\n",
    "print(f\"Dados de treino e teste foram salvos em '{nome_arquivo_treino}' e '{nome_arquivo_teste}'.\")"
   ]
  },
  {
   "cell_type": "code",
   "execution_count": 13,
   "metadata": {},
   "outputs": [
    {
     "data": {
      "text/html": [
       "<div>\n",
       "<style scoped>\n",
       "    .dataframe tbody tr th:only-of-type {\n",
       "        vertical-align: middle;\n",
       "    }\n",
       "\n",
       "    .dataframe tbody tr th {\n",
       "        vertical-align: top;\n",
       "    }\n",
       "\n",
       "    .dataframe thead th {\n",
       "        text-align: right;\n",
       "    }\n",
       "</style>\n",
       "<table border=\"1\" class=\"dataframe\">\n",
       "  <thead>\n",
       "    <tr style=\"text-align: right;\">\n",
       "      <th></th>\n",
       "      <th>Comment</th>\n",
       "      <th>Topic</th>\n",
       "    </tr>\n",
       "  </thead>\n",
       "  <tbody>\n",
       "    <tr>\n",
       "      <th>0</th>\n",
       "      <td>Tom</td>\n",
       "      <td>Chemistry</td>\n",
       "    </tr>\n",
       "    <tr>\n",
       "      <th>1</th>\n",
       "      <td>They were stuck biting the wood frog's mouth, ...</td>\n",
       "      <td>Biology</td>\n",
       "    </tr>\n",
       "    <tr>\n",
       "      <th>2</th>\n",
       "      <td>Food colouring</td>\n",
       "      <td>Chemistry</td>\n",
       "    </tr>\n",
       "    <tr>\n",
       "      <th>3</th>\n",
       "      <td>You know they could be poisonous, right?</td>\n",
       "      <td>Biology</td>\n",
       "    </tr>\n",
       "    <tr>\n",
       "      <th>4</th>\n",
       "      <td>From my experience, high school chem is nothin...</td>\n",
       "      <td>Chemistry</td>\n",
       "    </tr>\n",
       "    <tr>\n",
       "      <th>...</th>\n",
       "      <td>...</td>\n",
       "      <td>...</td>\n",
       "    </tr>\n",
       "    <tr>\n",
       "      <th>3495</th>\n",
       "      <td>Hmm yes, just as I thought</td>\n",
       "      <td>Physics</td>\n",
       "    </tr>\n",
       "    <tr>\n",
       "      <th>3496</th>\n",
       "      <td>\"but what if like, everything is like, connect...</td>\n",
       "      <td>Physics</td>\n",
       "    </tr>\n",
       "    <tr>\n",
       "      <th>3497</th>\n",
       "      <td>Mr. P is pretty great - his videos are a bit m...</td>\n",
       "      <td>Physics</td>\n",
       "    </tr>\n",
       "    <tr>\n",
       "      <th>3498</th>\n",
       "      <td>Natural selection.</td>\n",
       "      <td>Biology</td>\n",
       "    </tr>\n",
       "    <tr>\n",
       "      <th>3499</th>\n",
       "      <td>You could always just start where your interes...</td>\n",
       "      <td>Chemistry</td>\n",
       "    </tr>\n",
       "  </tbody>\n",
       "</table>\n",
       "<p>3500 rows × 2 columns</p>\n",
       "</div>"
      ],
      "text/plain": [
       "                                                Comment      Topic\n",
       "0                                                   Tom  Chemistry\n",
       "1     They were stuck biting the wood frog's mouth, ...    Biology\n",
       "2                                        Food colouring  Chemistry\n",
       "3              You know they could be poisonous, right?    Biology\n",
       "4     From my experience, high school chem is nothin...  Chemistry\n",
       "...                                                 ...        ...\n",
       "3495                         Hmm yes, just as I thought    Physics\n",
       "3496  \"but what if like, everything is like, connect...    Physics\n",
       "3497  Mr. P is pretty great - his videos are a bit m...    Physics\n",
       "3498                                 Natural selection.    Biology\n",
       "3499  You could always just start where your interes...  Chemistry\n",
       "\n",
       "[3500 rows x 2 columns]"
      ]
     },
     "execution_count": 13,
     "metadata": {},
     "output_type": "execute_result"
    }
   ],
   "source": [
    "# COMANDO QUE DEVE COLOCAR NO TEMPLATE Projeto1_Template.ipynb para LER a base de dados TREINO\n",
    "# Faça adaptações digitando o nome (username) considerado\n",
    "pd.read_csv('dados_treino_TRIO_'+nome+'.csv')"
   ]
  },
  {
   "cell_type": "code",
   "execution_count": 14,
   "metadata": {},
   "outputs": [
    {
     "data": {
      "text/html": [
       "<div>\n",
       "<style scoped>\n",
       "    .dataframe tbody tr th:only-of-type {\n",
       "        vertical-align: middle;\n",
       "    }\n",
       "\n",
       "    .dataframe tbody tr th {\n",
       "        vertical-align: top;\n",
       "    }\n",
       "\n",
       "    .dataframe thead th {\n",
       "        text-align: right;\n",
       "    }\n",
       "</style>\n",
       "<table border=\"1\" class=\"dataframe\">\n",
       "  <thead>\n",
       "    <tr style=\"text-align: right;\">\n",
       "      <th></th>\n",
       "      <th>Comment</th>\n",
       "      <th>Topic</th>\n",
       "    </tr>\n",
       "  </thead>\n",
       "  <tbody>\n",
       "    <tr>\n",
       "      <th>0</th>\n",
       "      <td>1)  You’d also need remnants of the integrase ...</td>\n",
       "      <td>Biology</td>\n",
       "    </tr>\n",
       "    <tr>\n",
       "      <th>1</th>\n",
       "      <td>Yeah, I'm not sure why it's always black cats ...</td>\n",
       "      <td>Biology</td>\n",
       "    </tr>\n",
       "    <tr>\n",
       "      <th>2</th>\n",
       "      <td>Is there a charge if it’s a neutral atom?</td>\n",
       "      <td>Chemistry</td>\n",
       "    </tr>\n",
       "    <tr>\n",
       "      <th>3</th>\n",
       "      <td>False alarm... I think the thermometer is actu...</td>\n",
       "      <td>Chemistry</td>\n",
       "    </tr>\n",
       "    <tr>\n",
       "      <th>4</th>\n",
       "      <td>About right 😂.</td>\n",
       "      <td>Chemistry</td>\n",
       "    </tr>\n",
       "    <tr>\n",
       "      <th>...</th>\n",
       "      <td>...</td>\n",
       "      <td>...</td>\n",
       "    </tr>\n",
       "    <tr>\n",
       "      <th>1495</th>\n",
       "      <td>How much do you know about quantum mechanics?</td>\n",
       "      <td>Chemistry</td>\n",
       "    </tr>\n",
       "    <tr>\n",
       "      <th>1496</th>\n",
       "      <td>Just get some MiO packets or something and mix...</td>\n",
       "      <td>Biology</td>\n",
       "    </tr>\n",
       "    <tr>\n",
       "      <th>1497</th>\n",
       "      <td>Just curious about the process</td>\n",
       "      <td>Chemistry</td>\n",
       "    </tr>\n",
       "    <tr>\n",
       "      <th>1498</th>\n",
       "      <td>Even more divergent. This measurement is about...</td>\n",
       "      <td>Physics</td>\n",
       "    </tr>\n",
       "    <tr>\n",
       "      <th>1499</th>\n",
       "      <td>Thank you</td>\n",
       "      <td>Chemistry</td>\n",
       "    </tr>\n",
       "  </tbody>\n",
       "</table>\n",
       "<p>1500 rows × 2 columns</p>\n",
       "</div>"
      ],
      "text/plain": [
       "                                                Comment      Topic\n",
       "0     1)  You’d also need remnants of the integrase ...    Biology\n",
       "1     Yeah, I'm not sure why it's always black cats ...    Biology\n",
       "2             Is there a charge if it’s a neutral atom?  Chemistry\n",
       "3     False alarm... I think the thermometer is actu...  Chemistry\n",
       "4                                        About right 😂.  Chemistry\n",
       "...                                                 ...        ...\n",
       "1495      How much do you know about quantum mechanics?  Chemistry\n",
       "1496  Just get some MiO packets or something and mix...    Biology\n",
       "1497                     Just curious about the process  Chemistry\n",
       "1498  Even more divergent. This measurement is about...    Physics\n",
       "1499                                          Thank you  Chemistry\n",
       "\n",
       "[1500 rows x 2 columns]"
      ]
     },
     "execution_count": 14,
     "metadata": {},
     "output_type": "execute_result"
    }
   ],
   "source": [
    "# COMANDO QUE DEVE COLOCAR NO TEMPLATE Projeto1_Template.ipynb para LER a base de dados TESTE\n",
    "# Faça adaptações digitando o nome (username) considerado\n",
    "pd.read_csv('dados_teste_TRIO_'+nome+'.csv')"
   ]
  },
  {
   "cell_type": "code",
   "execution_count": null,
   "metadata": {},
   "outputs": [],
   "source": []
  },
  {
   "cell_type": "code",
   "execution_count": null,
   "metadata": {},
   "outputs": [],
   "source": []
  }
 ],
 "metadata": {
  "kernelspec": {
   "display_name": "Python 3 (ipykernel)",
   "language": "python",
   "name": "python3"
  },
  "language_info": {
   "codemirror_mode": {
    "name": "ipython",
    "version": 3
   },
   "file_extension": ".py",
   "mimetype": "text/x-python",
   "name": "python",
   "nbconvert_exporter": "python",
   "pygments_lexer": "ipython3",
   "version": "3.11.4"
  }
 },
 "nbformat": 4,
 "nbformat_minor": 2
}
