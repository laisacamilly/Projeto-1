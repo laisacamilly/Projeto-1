{
 "cells": [
  {
   "cell_type": "markdown",
   "metadata": {},
   "source": [
    "### Projeto 1 - Ciência dos Dados"
   ]
  },
  {
   "cell_type": "markdown",
   "metadata": {},
   "source": [
    "Nome: __João Lucas Brasileiro de Sousa Lopes__\n",
    "\n",
    "Nome: __Láisa Camilly de Oliveira__\n",
    "\n",
    "Nome: __Nathan Braga__"
   ]
  },
  {
   "cell_type": "markdown",
   "metadata": {},
   "source": [
    "___\n",
    "Carregando algumas bibliotecas:"
   ]
  },
  {
   "cell_type": "code",
   "execution_count": 84,
   "metadata": {},
   "outputs": [],
   "source": [
    "%matplotlib inline\n",
    "import pandas as pd\n",
    "import matplotlib.pyplot as plt\n",
    "import numpy as np\n",
    "import os\n",
    "import re\n",
    "import unidecode"
   ]
  },
  {
   "cell_type": "code",
   "execution_count": 85,
   "metadata": {
    "scrolled": false
   },
   "outputs": [
    {
     "name": "stdout",
     "output_type": "stream",
     "text": [
      "Esperamos trabalhar no diretório\n",
      "c:\\Users\\laisa\\OneDrive\\Área de Trabalho\\Insper - Eng. Comp\\2º semestre\\C.Dados\\Projeto 1\\Projeto-1\n"
     ]
    }
   ],
   "source": [
    "print('Esperamos trabalhar no diretório')\n",
    "print(os.getcwd())"
   ]
  },
  {
   "cell_type": "markdown",
   "metadata": {},
   "source": [
    "Carregando a base de dados com as mensagens dos seus arquivos:"
   ]
  },
  {
   "cell_type": "markdown",
   "metadata": {},
   "source": [
    "___\n",
    "#### Classificador automático.\n",
    "- O objetivo deste projeto é desenvolver um classificador baseado no algoritmo Naive Bayes, capaz de determinar se uma determinada frase pertence à área de Química ou Física.\n",
    "- O dataset utilizado consiste em frases de ambas as disciplinas, associadas a rótulos que identificam a qual matéria elas pertencem."
   ]
  },
  {
   "cell_type": "markdown",
   "metadata": {},
   "source": [
    "___\n",
    "#### Montando um Classificador Naive-Bayes.\n",
    "<p>Considerando apenas as mensagens da planilha Treinamento, ensine  seu classificador.</p>"
   ]
  },
  {
   "cell_type": "markdown",
   "metadata": {},
   "source": [
    "- Criação de uma função responsável pela limpeza do dataset analisado, incluindo stopwords, acentos, e caracteres."
   ]
  },
  {
   "cell_type": "code",
   "execution_count": 86,
   "metadata": {},
   "outputs": [],
   "source": [
    "def limpeza(texto):\n",
    "\n",
    "    \"\"\"\n",
    "    Limpa o texto fornecido, tirando caracteres indesejados.\n",
    "    \"\"\"\n",
    "\n",
    "    caracteres = '[´\"!-.:?;\\$\\n'']'\n",
    "    limpar = re.compile(caracteres)\n",
    "    texto_limpo = re.sub(limpar, '', texto)\n",
    "\n",
    "    texto_limpo = unidecode.unidecode(texto_limpo)\n",
    "    return texto_limpo"
   ]
  },
  {
   "cell_type": "code",
   "execution_count": 87,
   "metadata": {},
   "outputs": [],
   "source": [
    "# Criando nossa base de dados para treinamento e teste:\n",
    "train = pd.read_csv('dados_treino_TRIO_joaolbsl.csv')\n",
    "\n",
    "test = pd.read_csv('dados_teste_TRIO_joaolbsl.csv')"
   ]
  },
  {
   "cell_type": "code",
   "execution_count": 88,
   "metadata": {},
   "outputs": [],
   "source": [
    "# Chamando a função criada para tratar a base de dados Train:\n",
    "for i in range(0,train.shape[0]):\n",
    "    train['Comment'][i] = limpeza(train['Comment'][i])\n",
    "    train['Comment'][i] = train['Comment'][i].lower().strip()"
   ]
  },
  {
   "cell_type": "code",
   "execution_count": 89,
   "metadata": {},
   "outputs": [],
   "source": [
    "# Separando o df para o topico Física e Química.\n",
    "train_fis = train.loc[train['Topic'] == 'Physics', 'Comment'] \n",
    "train_qui = train.loc[train['Topic'] == 'Chemistry', 'Comment'] "
   ]
  },
  {
   "cell_type": "code",
   "execution_count": 90,
   "metadata": {},
   "outputs": [],
   "source": [
    "# Lista com todas as palavras que aparecem no df de física.\n",
    "palavras_fis = []\n",
    "\n",
    "for frase in train_fis:\n",
    "    frase = frase.replace('\\\\n', ' ')\n",
    "    frase = frase.split()\n",
    "\n",
    "    for word in frase:\n",
    "        palavras_fis.append(word)\n",
    "\n",
    "# Lista com todas as palavras que aparecem no df de química.\n",
    "palavras_qui = []\n",
    "\n",
    "for frase in train_qui:\n",
    "    frase = frase.replace('\\\\n', ' ')\n",
    "    frase = frase.split()\n",
    "\n",
    "    for word in frase:\n",
    "        palavras_qui.append(word)\n"
   ]
  },
  {
   "cell_type": "code",
   "execution_count": 91,
   "metadata": {},
   "outputs": [],
   "source": [
    "# Lista com palavras de física e química juntas.\n",
    "todas_palavras = (palavras_fis + palavras_qui)"
   ]
  },
  {
   "cell_type": "markdown",
   "metadata": {},
   "source": [
    "- Criação da função que calcula a probabilidade de tal palavra ser de tal tópico."
   ]
  },
  {
   "cell_type": "code",
   "execution_count": 92,
   "metadata": {},
   "outputs": [],
   "source": [
    "def calcula_prob (frase, palavras_topico, total_palavras_topico, todas_palavras):\n",
    "\n",
    "    \"\"\"\n",
    "    Calcula a probabilidadea de uma palavra do topico de física ou química estar na frase.\n",
    "    \"\"\"\n",
    "\n",
    "    prob = 1\n",
    "    frase = frase.split()\n",
    "    for palavra in frase:\n",
    "        if palavra in todas_palavras:\n",
    "            prob = prob * (palavras_topico.count(palavra) + 1) / (total_palavras_topico + len(todas_palavras))\n",
    "\n",
    "    return prob"
   ]
  },
  {
   "cell_type": "code",
   "execution_count": 93,
   "metadata": {},
   "outputs": [],
   "source": [
    "# Quantidade de palavras em Física e Química, para chamar na minha função.\n",
    "total_palavras_fis = len(palavras_fis)\n",
    "total_palavras_qui= len(palavras_qui)"
   ]
  },
  {
   "cell_type": "code",
   "execution_count": 94,
   "metadata": {},
   "outputs": [
    {
     "name": "stdout",
     "output_type": "stream",
     "text": [
      "Probabilidade de ser Física: 6.830019490911401e-13\n",
      "Probabilidade de ser Química: 2.5488276519468887e-15\n"
     ]
    }
   ],
   "source": [
    "# # Testando a função criada baseado no classificador, dado uma frase específica:\n",
    "frase = \"the physics of the universe\"\n",
    "prob_fis = calcula_prob(frase, palavras_fis, total_palavras_fis, todas_palavras)\n",
    "prob_qui = calcula_prob(frase, palavras_qui, total_palavras_qui, todas_palavras)\n",
    "\n",
    "# Vendo o valor:\n",
    "print(f\"Probabilidade de ser Física: {prob_fis}\")\n",
    "print(f\"Probabilidade de ser Química: {prob_qui}\")"
   ]
  },
  {
   "cell_type": "code",
   "execution_count": 95,
   "metadata": {},
   "outputs": [],
   "source": [
    "# Todas as frases do df Treino:\n",
    "frases_train = train['Comment']\n",
    "\n",
    "# Todas as frases do df Teste:\n",
    "frases_test = test['Comment']"
   ]
  },
  {
   "cell_type": "markdown",
   "metadata": {},
   "source": [
    "___\n",
    "#### Verificando a performance do Classificador\n",
    "\n",
    "Agora você deve testar o seu classificador com a base de Treinamento."
   ]
  },
  {
   "cell_type": "code",
   "execution_count": 57,
   "metadata": {},
   "outputs": [
    {
     "name": "stdout",
     "output_type": "stream",
     "text": [
      "Boot       Chemistry   Physics       All\n",
      "Topic                                   \n",
      "Chemistry   0.515143  0.040571  0.555714\n",
      "Physics     0.089429  0.354857  0.444286\n",
      "All         0.604571  0.395429  1.000000\n"
     ]
    }
   ],
   "source": [
    "# Fazendo com que nosso robô \"Boot\", calcule as probabilidades do df Train.\n",
    "topico_esperado = []\n",
    "\n",
    "for frase in frases_train:\n",
    "\n",
    "    prob_fis = calcula_prob(frase, palavras_fis, total_palavras_fis, todas_palavras)\n",
    "    prob_qui = calcula_prob(frase, palavras_qui, total_palavras_qui, todas_palavras)\n",
    "\n",
    "    if prob_fis > prob_qui:\n",
    "        topico_esperado.append(\"Physics\")\n",
    "    else:\n",
    "        topico_esperado.append(\"Chemistry\")\n",
    "\n",
    "train['Boot'] = topico_esperado\n",
    "\n",
    "tabela_frequencia_relativa_train = pd.crosstab(train['Topic'], train['Boot'], normalize = True, margins =True)\n",
    "\n",
    "print(tabela_frequencia_relativa_train)"
   ]
  },
  {
   "cell_type": "code",
   "execution_count": 64,
   "metadata": {},
   "outputs": [
    {
     "name": "stdout",
     "output_type": "stream",
     "text": [
      "Vp:0.9269922879177378\n"
     ]
    }
   ],
   "source": [
    "# Verdadeiros Positivos.\n",
    "vp_train = tabela_frequencia_relativa_train['Chemistry']['Chemistry'] / tabela_frequencia_relativa_train['All']['Chemistry']\n",
    "print(f'Vp:{vp_train}')"
   ]
  },
  {
   "cell_type": "code",
   "execution_count": 65,
   "metadata": {},
   "outputs": [
    {
     "name": "stdout",
     "output_type": "stream",
     "text": [
      "Fp:0.2012861736334405\n"
     ]
    }
   ],
   "source": [
    "# Falsos Positivos.\n",
    "fp_train = tabela_frequencia_relativa_train['Chemistry']['Physics']/tabela_frequencia_relativa_train['All']['Physics']\n",
    "print(f'Fp:{fp_train}')"
   ]
  },
  {
   "cell_type": "code",
   "execution_count": 73,
   "metadata": {},
   "outputs": [
    {
     "name": "stdout",
     "output_type": "stream",
     "text": [
      "Vn: 0.7987138263665595\n"
     ]
    }
   ],
   "source": [
    "# Verdadeiros Negativos.\n",
    "vn_train = 1 - fp_train\n",
    "print(f'Vn: {vn_train}')"
   ]
  },
  {
   "cell_type": "code",
   "execution_count": 81,
   "metadata": {},
   "outputs": [
    {
     "name": "stdout",
     "output_type": "stream",
     "text": [
      "Acurácia df.Train: 87.00\n"
     ]
    }
   ],
   "source": [
    "# Acurácia de Treino.\n",
    "acuracia_train = (tabela_frequencia_relativa_train['Chemistry']['Chemistry'] + tabela_frequencia_relativa_train['Physics']['Physics'])*100\n",
    "print(f'Acurácia df.Train: {acuracia_train:.2f}')"
   ]
  },
  {
   "cell_type": "markdown",
   "metadata": {},
   "source": [
    "___\n",
    "#### Verificando a performance do Classificador\n",
    "\n",
    "Agora você deve testar o seu classificador com a base de Teste."
   ]
  },
  {
   "cell_type": "code",
   "execution_count": 60,
   "metadata": {},
   "outputs": [
    {
     "name": "stdout",
     "output_type": "stream",
     "text": [
      "Boot       Chemistry   Physics       All\n",
      "Topic                                   \n",
      "Chemistry   0.443333  0.131333  0.574667\n",
      "Physics     0.130000  0.295333  0.425333\n",
      "All         0.573333  0.426667  1.000000\n"
     ]
    }
   ],
   "source": [
    "# Fazendo com que nosso robô \"Boot\", calcule as probabilidades do df Test.\n",
    "topico_esperado = []\n",
    "\n",
    "for frase in frases_test:\n",
    "\n",
    "    prob_fis = calcula_prob(frase, palavras_fis, total_palavras_fis, todas_palavras)\n",
    "    prob_qui = calcula_prob(frase, palavras_qui, total_palavras_qui, todas_palavras)\n",
    "\n",
    "    if prob_fis > prob_qui:\n",
    "        topico_esperado.append(\"Physics\")\n",
    "    else:\n",
    "        topico_esperado.append(\"Chemistry\")\n",
    "\n",
    "test['Boot'] = topico_esperado\n",
    "\n",
    "tabela_frequencia_relativa_test = pd.crosstab(test['Topic'], test['Boot'], normalize = True, margins = True)\n",
    "\n",
    "print(tabela_frequencia_relativa_test)"
   ]
  },
  {
   "cell_type": "code",
   "execution_count": 68,
   "metadata": {},
   "outputs": [
    {
     "name": "stdout",
     "output_type": "stream",
     "text": [
      "Vp: 0.771461716937355\n"
     ]
    }
   ],
   "source": [
    "# Verdadeiros Positivos.\n",
    "vp_test = tabela_frequencia_relativa_test['Chemistry']['Chemistry'] / tabela_frequencia_relativa_test['All']['Chemistry']\n",
    "print(f'Vp: {vp_test}')"
   ]
  },
  {
   "cell_type": "code",
   "execution_count": 71,
   "metadata": {},
   "outputs": [
    {
     "name": "stdout",
     "output_type": "stream",
     "text": [
      "Fp: 0.3056426332288401\n"
     ]
    }
   ],
   "source": [
    "# Falsos Positivos. \n",
    "fp_test = tabela_frequencia_relativa_test['Chemistry']['Physics']/tabela_frequencia_relativa_test['All']['Physics']\n",
    "print(f'Fp: {fp_test}')"
   ]
  },
  {
   "cell_type": "code",
   "execution_count": 74,
   "metadata": {},
   "outputs": [
    {
     "name": "stdout",
     "output_type": "stream",
     "text": [
      "Vn: 0.6943573667711599\n"
     ]
    }
   ],
   "source": [
    "# Verdadeiros Negativos.\n",
    "vn_test = 1 - fp_test\n",
    "print(f'Vn: {vn_test}')"
   ]
  },
  {
   "cell_type": "code",
   "execution_count": 80,
   "metadata": {},
   "outputs": [
    {
     "name": "stdout",
     "output_type": "stream",
     "text": [
      "Acurácia df.Test: 73.87\n"
     ]
    }
   ],
   "source": [
    "# Acurácia do df.Test.\n",
    "acuracia_test = (tabela_frequencia_relativa_test['Chemistry']['Chemistry'] + tabela_frequencia_relativa_test['Physics']['Physics'])*100\n",
    "print(f'Acurácia df.Test: {acuracia_test:.2f}')"
   ]
  },
  {
   "cell_type": "markdown",
   "metadata": {},
   "source": [
    "___\n",
    "- Verificando o comportamento do nosso robô da base de treino e da base de teste, e calculando a diferenç percentual entre os dois."
   ]
  },
  {
   "cell_type": "code",
   "execution_count": 83,
   "metadata": {},
   "outputs": [
    {
     "name": "stdout",
     "output_type": "stream",
     "text": [
      "Diferenças do percentual de acurácia entre Train e Test: 13.13\n"
     ]
    }
   ],
   "source": [
    "# Diferença de acurácias:\n",
    "diferenca  = acuracia_train - acuracia_test\n",
    "print(f'Diferenças do percentual de acurácia entre Train e Test: {diferenca:.2f}')"
   ]
  },
  {
   "cell_type": "markdown",
   "metadata": {},
   "source": [
    "___\n",
    "#### Conclusão."
   ]
  },
  {
   "cell_type": "markdown",
   "metadata": {},
   "source": [
    "- Considerando a base de Testes, a qual foi analisada, é possível dizer que o classificador é preciso. Tendo em vista que o classificador obteve 73.87% de acurácia.\n",
    "- \n",
    "- Para verificar a performance do classificador foram calculadas as acurácias utilizando as duas bases de dados, a base de treino e a base de testes, sendo a primeira aproximadamente 2.3 vezes maior que a segunda.\n",
    "- A acurácia utilizando a base de treino foi de 86.9% e com a base de teste foi de 74.13%, sendo a diferença entre as duas igual a 12.83%.\n",
    "- Para o aperfeiçoamento do classificador, foi necessário a implementação da limpeza das duas bases de dados, removendo os caracteres indesejados e fazendo com que assim as bases de dados estejam mais limpas."
   ]
  },
  {
   "cell_type": "markdown",
   "metadata": {},
   "source": [
    "___\n",
    "#### Qualidade do Classificador a partir de novas separações das mensagens entre Treinamento e Teste\n",
    "\n",
    "Caso for fazer esse item do Projeto"
   ]
  },
  {
   "cell_type": "code",
   "execution_count": null,
   "metadata": {},
   "outputs": [],
   "source": []
  },
  {
   "cell_type": "code",
   "execution_count": null,
   "metadata": {},
   "outputs": [],
   "source": []
  },
  {
   "cell_type": "code",
   "execution_count": null,
   "metadata": {},
   "outputs": [],
   "source": []
  },
  {
   "cell_type": "markdown",
   "metadata": {},
   "source": [
    "___\n",
    "#### Aperfeiçoamento:\n",
    "\n",
    "Leia atentamente a rubrica colocada no enunciado do Projeto 1 (última página). <br>\n",
    "Trabalhos que conseguirem pelo menos conceito B vão evoluir em conceito dependendo da quantidade de itens avançados:\n",
    "\n",
    "* IMPLEMENTOU outras limpezas e transformações que não afetem a qualidade da informação contida nas mensagens, mas tendem a melhorar na classificação das mensagens. Ex: stemming, lemmatization, stopwords.\n",
    "* CONSIDEROU arquivo com três categorias na classificação das variáveis (OBRIGATÓRIO PARA QUARTETOS, sem contar como item avançado)\n",
    "* CONSTRUIU o cálculo das probabilidades corretamente utilizando bigramas E apresentou referência sobre o método utilizado.\n",
    "* EXPLICOU porquê não pode usar novas mensagens classificadas pelo próprio classificador como amostra de treinamento\n",
    "* PROPÔS diferentes cenários para Naïve Bayes fora do contexto do projeto (pelo menos dois cenários diferentes, exceto aqueles já apresentados em sala pelos professores: por exemplo, filtro de spam)\n",
    "* REFLETE criticamente sobre os resultados obtidos, identificando limitações do modelo e sugerindo possíveis melhorias ou diferentes abordagens com indicações concretas de como implementar (indicar como fazer e indicar material de pesquisa).\n",
    "* DOCUMENTOU bem o código, com explicações claras para cada etapa do processo, incluindo o raciocínio por trás das decisões de modelagem e das transformações de dados.\n"
   ]
  },
  {
   "cell_type": "markdown",
   "metadata": {},
   "source": [
    "___\n",
    "#### Referências"
   ]
  },
  {
   "cell_type": "markdown",
   "metadata": {},
   "source": [
    "[Naive Bayes and Text Classification](https://arxiv.org/pdf/1410.5329.pdf)  **Mais completo**\n",
    "\n",
    "[Natural Language Processing (Part 17)-Laplacian Smoothing](https://medium.com/@Coursesteach/natural-language-processing-part-17-laplacian-smoothing-7d4be71d0ded) **Mais simples**"
   ]
  }
 ],
 "metadata": {
  "kernelspec": {
   "display_name": "Python 3 (ipykernel)",
   "language": "python",
   "name": "python3"
  },
  "language_info": {
   "codemirror_mode": {
    "name": "ipython",
    "version": 3
   },
   "file_extension": ".py",
   "mimetype": "text/x-python",
   "name": "python",
   "nbconvert_exporter": "python",
   "pygments_lexer": "ipython3",
   "version": "3.11.4"
  }
 },
 "nbformat": 4,
 "nbformat_minor": 4
}
