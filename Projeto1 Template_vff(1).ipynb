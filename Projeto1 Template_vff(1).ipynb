{
 "cells": [
  {
   "cell_type": "markdown",
   "metadata": {},
   "source": [
    "# Projeto 1 - Ciência dos Dados"
   ]
  },
  {
   "cell_type": "markdown",
   "metadata": {},
   "source": [
    "Nome: __João Lucas Brasileiro de Sousa Lopes__\n",
    "\n",
    "Nome: __Láisa Camilly de Oliveira__\n",
    "\n",
    "Nome: __Nathan Braga__"
   ]
  },
  {
   "cell_type": "markdown",
   "metadata": {},
   "source": [
    "Atenção: Serão permitidos grupos de até 4 pessoas, mas com uma rubrica mais exigente. "
   ]
  },
  {
   "cell_type": "markdown",
   "metadata": {},
   "source": [
    "___\n",
    "Carregando algumas bibliotecas:"
   ]
  },
  {
   "cell_type": "code",
   "execution_count": 6,
   "metadata": {},
   "outputs": [],
   "source": [
    "%matplotlib inline\n",
    "import pandas as pd\n",
    "import matplotlib.pyplot as plt\n",
    "import numpy as np\n",
    "import os\n",
    "import re"
   ]
  },
  {
   "cell_type": "code",
   "execution_count": 7,
   "metadata": {
    "scrolled": false
   },
   "outputs": [
    {
     "name": "stdout",
     "output_type": "stream",
     "text": [
      "Esperamos trabalhar no diretório\n",
      "c:\\Users\\laisa\\OneDrive\\Área de Trabalho\\Insper - Eng. Comp\\2º semestre\\C.Dados\\Projeto 1\\Projeto-1\n"
     ]
    }
   ],
   "source": [
    "print('Esperamos trabalhar no diretório')\n",
    "print(os.getcwd())"
   ]
  },
  {
   "cell_type": "markdown",
   "metadata": {},
   "source": [
    "Carregando a base de dados com as mensagens dos seus arquivos:"
   ]
  },
  {
   "cell_type": "markdown",
   "metadata": {},
   "source": [
    "___\n",
    "## Classificador automático\n"
   ]
  },
  {
   "cell_type": "markdown",
   "metadata": {},
   "source": [
    "Faça aqui uma descrição do seu assunto e o contexto referente aos rótulos cujas mensagens (ou reviews) deverão ser classificadas.\n",
    "\n",
    "ESCREVA AQUI..."
   ]
  },
  {
   "cell_type": "markdown",
   "metadata": {},
   "source": [
    "___\n",
    "### Montando um Classificador Naive-Bayes\n",
    "\n",
    "Considerando apenas as mensagens da planilha Treinamento, ensine  seu classificador."
   ]
  },
  {
   "cell_type": "markdown",
   "metadata": {},
   "source": [
    "#### <p style = 'color: green;'> <strong> Limpeza dos dados do df Treino: </strong>\n",
    "- Transformação para letras minusculas.\n",
    "- Tirou os espaços.\n",
    "- Tirou os emojis.\n",
    "- Tiramos os conectivos que aparecem bastante em ambos."
   ]
  },
  {
   "cell_type": "code",
   "execution_count": 45,
   "metadata": {},
   "outputs": [],
   "source": [
    "# funçao para limpeza de caracteres\n",
    "import unidecode\n",
    "\n",
    "def limpeza(texto):\n",
    "    caracteres = '[´\"!-.:?;\\$\\n'']'\n",
    "    limpar = re.compile(caracteres)\n",
    "    texto_limpo = re.sub(limpar, '', texto)\n",
    "\n",
    "    texto_limpo = unidecode.unidecode(texto_limpo)\n",
    "    return texto_limpo"
   ]
  },
  {
   "cell_type": "code",
   "execution_count": 47,
   "metadata": {},
   "outputs": [
    {
     "data": {
      "text/html": [
       "<div>\n",
       "<style scoped>\n",
       "    .dataframe tbody tr th:only-of-type {\n",
       "        vertical-align: middle;\n",
       "    }\n",
       "\n",
       "    .dataframe tbody tr th {\n",
       "        vertical-align: top;\n",
       "    }\n",
       "\n",
       "    .dataframe thead th {\n",
       "        text-align: right;\n",
       "    }\n",
       "</style>\n",
       "<table border=\"1\" class=\"dataframe\">\n",
       "  <thead>\n",
       "    <tr style=\"text-align: right;\">\n",
       "      <th></th>\n",
       "      <th>Comment</th>\n",
       "      <th>Topic</th>\n",
       "    </tr>\n",
       "  </thead>\n",
       "  <tbody>\n",
       "    <tr>\n",
       "      <th>0</th>\n",
       "      <td>[158 page paper for reference. ](https://smart...</td>\n",
       "      <td>Physics</td>\n",
       "    </tr>\n",
       "    <tr>\n",
       "      <th>1</th>\n",
       "      <td>Try coating chemist. Application specialist (b...</td>\n",
       "      <td>Chemistry</td>\n",
       "    </tr>\n",
       "    <tr>\n",
       "      <th>2</th>\n",
       "      <td>That there is 2-(decahydroquinolin-4-yl)-N,N-d...</td>\n",
       "      <td>Chemistry</td>\n",
       "    </tr>\n",
       "    <tr>\n",
       "      <th>3</th>\n",
       "      <td>sourcey source: [http://www.sheldoncomics.com/...</td>\n",
       "      <td>Physics</td>\n",
       "    </tr>\n",
       "    <tr>\n",
       "      <th>4</th>\n",
       "      <td>Maybe with a rough enough surface, not as much...</td>\n",
       "      <td>Physics</td>\n",
       "    </tr>\n",
       "  </tbody>\n",
       "</table>\n",
       "</div>"
      ],
      "text/plain": [
       "                                             Comment      Topic\n",
       "0  [158 page paper for reference. ](https://smart...    Physics\n",
       "1  Try coating chemist. Application specialist (b...  Chemistry\n",
       "2  That there is 2-(decahydroquinolin-4-yl)-N,N-d...  Chemistry\n",
       "3  sourcey source: [http://www.sheldoncomics.com/...    Physics\n",
       "4  Maybe with a rough enough surface, not as much...    Physics"
      ]
     },
     "execution_count": 47,
     "metadata": {},
     "output_type": "execute_result"
    }
   ],
   "source": [
    "train = pd.read_csv('dados_treino_TRIO_joaolbsl.csv')\n",
    "train.head(5)\n",
    "\n",
    "test = pd.read_csv('dados_teste_TRIO_joaolbsl.csv')\n",
    "test.head(5)"
   ]
  },
  {
   "cell_type": "code",
   "execution_count": 48,
   "metadata": {},
   "outputs": [
    {
     "data": {
      "text/html": [
       "<div>\n",
       "<style scoped>\n",
       "    .dataframe tbody tr th:only-of-type {\n",
       "        vertical-align: middle;\n",
       "    }\n",
       "\n",
       "    .dataframe tbody tr th {\n",
       "        vertical-align: top;\n",
       "    }\n",
       "\n",
       "    .dataframe thead th {\n",
       "        text-align: right;\n",
       "    }\n",
       "</style>\n",
       "<table border=\"1\" class=\"dataframe\">\n",
       "  <thead>\n",
       "    <tr style=\"text-align: right;\">\n",
       "      <th></th>\n",
       "      <th>Comment</th>\n",
       "      <th>Topic</th>\n",
       "    </tr>\n",
       "  </thead>\n",
       "  <tbody>\n",
       "    <tr>\n",
       "      <th>0</th>\n",
       "      <td>dude probably doesn't want to drop several hun...</td>\n",
       "      <td>Chemistry</td>\n",
       "    </tr>\n",
       "    <tr>\n",
       "      <th>1</th>\n",
       "      <td>you don't think dissolving aspirin is hard i'm...</td>\n",
       "      <td>Chemistry</td>\n",
       "    </tr>\n",
       "    <tr>\n",
       "      <th>2</th>\n",
       "      <td>wanted to add in some more details that werent...</td>\n",
       "      <td>Physics</td>\n",
       "    </tr>\n",
       "    <tr>\n",
       "      <th>3</th>\n",
       "      <td>just buy precious metal silver or gold only th...</td>\n",
       "      <td>Chemistry</td>\n",
       "    </tr>\n",
       "    <tr>\n",
       "      <th>4</th>\n",
       "      <td>that's completely untrue</td>\n",
       "      <td>Chemistry</td>\n",
       "    </tr>\n",
       "    <tr>\n",
       "      <th>...</th>\n",
       "      <td>...</td>\n",
       "      <td>...</td>\n",
       "    </tr>\n",
       "    <tr>\n",
       "      <th>3495</th>\n",
       "      <td>do you know chinese whispers</td>\n",
       "      <td>Physics</td>\n",
       "    </tr>\n",
       "    <tr>\n",
       "      <th>3496</th>\n",
       "      <td>nepetalactone from catnip</td>\n",
       "      <td>Chemistry</td>\n",
       "    </tr>\n",
       "    <tr>\n",
       "      <th>3497</th>\n",
       "      <td>at this point i can never tell if qed is the l...</td>\n",
       "      <td>Physics</td>\n",
       "    </tr>\n",
       "    <tr>\n",
       "      <th>3498</th>\n",
       "      <td>thats why few people does inorganic chemistry</td>\n",
       "      <td>Chemistry</td>\n",
       "    </tr>\n",
       "    <tr>\n",
       "      <th>3499</th>\n",
       "      <td>what is the weight at the top and at the bottom</td>\n",
       "      <td>Physics</td>\n",
       "    </tr>\n",
       "  </tbody>\n",
       "</table>\n",
       "<p>3500 rows × 2 columns</p>\n",
       "</div>"
      ],
      "text/plain": [
       "                                                Comment      Topic\n",
       "0     dude probably doesn't want to drop several hun...  Chemistry\n",
       "1     you don't think dissolving aspirin is hard i'm...  Chemistry\n",
       "2     wanted to add in some more details that werent...    Physics\n",
       "3     just buy precious metal silver or gold only th...  Chemistry\n",
       "4                              that's completely untrue  Chemistry\n",
       "...                                                 ...        ...\n",
       "3495                       do you know chinese whispers    Physics\n",
       "3496                          nepetalactone from catnip  Chemistry\n",
       "3497  at this point i can never tell if qed is the l...    Physics\n",
       "3498      thats why few people does inorganic chemistry  Chemistry\n",
       "3499    what is the weight at the top and at the bottom    Physics\n",
       "\n",
       "[3500 rows x 2 columns]"
      ]
     },
     "execution_count": 48,
     "metadata": {},
     "output_type": "execute_result"
    }
   ],
   "source": [
    "for i in range(0,train.shape[0]):\n",
    "    train['Comment'][i] = limpeza(train['Comment'][i])\n",
    "    train['Comment'][i] = train['Comment'][i].lower().strip()\n",
    "train"
   ]
  },
  {
   "cell_type": "code",
   "execution_count": 53,
   "metadata": {},
   "outputs": [],
   "source": [
    "train_fis = train.loc[train['Topic'] == 'Physics', 'Comment'] # dados treino de fisica\n",
    "train_qui = train.loc[train['Topic'] == 'Chemistry', 'Comment'] # dados treino de quimica"
   ]
  },
  {
   "cell_type": "code",
   "execution_count": 54,
   "metadata": {},
   "outputs": [],
   "source": [
    "# Todas as palavras do df de fisica.\n",
    "palavras_fis = []\n",
    "\n",
    "for frase in train_fis:\n",
    "    frase = frase.replace('\\\\n', ' ')\n",
    "    frase = frase.split()\n",
    "\n",
    "    for word in frase:\n",
    "        palavras_fis.append(word)\n",
    "\n",
    "# Todas as palavras do df de quimica.\n",
    "palavras_qui = []\n",
    "\n",
    "for frase in train_qui:\n",
    "    frase = frase.replace('\\\\n', ' ')\n",
    "    frase = frase.split()\n",
    "\n",
    "    for word in frase:\n",
    "        palavras_qui.append(word)\n"
   ]
  },
  {
   "cell_type": "code",
   "execution_count": 80,
   "metadata": {},
   "outputs": [],
   "source": [
    "#pd.Series(palavras_fis).value_counts().head(40)"
   ]
  },
  {
   "cell_type": "code",
   "execution_count": 79,
   "metadata": {},
   "outputs": [],
   "source": [
    "#pd.Series(palavras_qui).value_counts().head(40)"
   ]
  },
  {
   "cell_type": "code",
   "execution_count": 55,
   "metadata": {},
   "outputs": [],
   "source": [
    "# Como se fosse nosso livro de português:\n",
    "todas_palavras = palavras_fis + palavras_qui"
   ]
  },
  {
   "cell_type": "code",
   "execution_count": 56,
   "metadata": {},
   "outputs": [],
   "source": [
    "tab_fis_rel = train_fis.value_counts(True)\n",
    "tab_qui_rel = train_qui.value_counts(True)"
   ]
  },
  {
   "cell_type": "code",
   "execution_count": 72,
   "metadata": {},
   "outputs": [
    {
     "data": {
      "text/plain": [
       "Comment\n",
       "[removed]                                                                                                                                                                                                                                                                                                                                                                                                                                                                75\n",
       "[deleted]                                                                                                                                                                                                                                                                                                                                                                                                                                                                31\n",
       "thank you                                                                                                                                                                                                                                                                                                                                                                                                                                                                10\n",
       "                                                                                                                                                                                                                                                                                                                                                                                                                                                                          8\n",
       "yes                                                                                                                                                                                                                                                                                                                                                                                                                                                                       4\n",
       "                                                                                                                                                                                                                                                                                                                                                                                                                                                                         ..\n",
       "typically used in repair                                                                                                                                                                                                                                                                                                                                                                                                                                                  1\n",
       "i see what you're saying but in the case of this assignment he does want the mathematical basis for describing the physical phenomena that are part of mri i know the math is just something that describes things that we observe in reality \\n\\nthere seems to be pretty rigorous explanations of the quantum mechanics behind mri and magnetic resonance generally but most of it is above my head at this point at least without someone else to explain it to me     1\n",
       "no it turns the earth into a giant greenhouse                                                                                                                                                                                                                                                                                                                                                                                                                             1\n",
       "make sure you use it with good ventilation or a respirator rated for hf and cover your skin well with something that is ideally impermeable to hf it can leech through your skin and damage your deep tissue it also binds to calcium ions which your body uses to activate muscles thats how it stops or damages your heart idk how much youve read about hf but you cant be too careful with it                                                                         1\n",
       "what is the weight at the top and at the bottom                                                                                                                                                                                                                                                                                                                                                                                                                           1\n",
       "Name: count, Length: 3351, dtype: int64"
      ]
     },
     "execution_count": 72,
     "metadata": {},
     "output_type": "execute_result"
    }
   ],
   "source": [
    "tab_treino_rel = train['Comment'].value_counts(True)\n",
    "tab_treino_abs = train['Comment'].value_counts()\n",
    "\n",
    "tab_treino_abs"
   ]
  },
  {
   "cell_type": "code",
   "execution_count": 60,
   "metadata": {},
   "outputs": [],
   "source": [
    "# Classificador:\n",
    "\n",
    "def calcula_prob (frase, palavras_topico, total_palavras_topico, todas_palavras):\n",
    "    \n",
    "    prob = 1\n",
    "    frase = frase.split()\n",
    "    for palavra in frase:\n",
    "        if palavra in todas_palavras:\n",
    "            prob = prob * (palavras_topico.count(palavra) + 1) / (total_palavras_topico + len(todas_palavras))\n",
    "\n",
    "    return prob"
   ]
  },
  {
   "cell_type": "code",
   "execution_count": 61,
   "metadata": {},
   "outputs": [],
   "source": [
    "total_palavras_fis = len(palavras_fis)\n",
    "total_palavras_qui= len(palavras_qui)"
   ]
  },
  {
   "cell_type": "code",
   "execution_count": 63,
   "metadata": {},
   "outputs": [
    {
     "name": "stdout",
     "output_type": "stream",
     "text": [
      "probabilidade de ser fisica: 6.830019490911401e-13\n",
      "probabilidade de ser biologia: 2.5488276519468887e-15\n"
     ]
    }
   ],
   "source": [
    "# Teste:\n",
    "\n",
    "frase = \"the physics of the universe\"\n",
    "prob_fis = calcula_prob(frase, palavras_fis, total_palavras_fis, todas_palavras)\n",
    "prob_qui = calcula_prob(frase, palavras_qui, total_palavras_qui, todas_palavras)\n",
    "\n",
    "# Vendo o valor:\n",
    "print(f\"probabilidade de ser fisica: {prob_fis}\")\n",
    "print(f\"probabilidade de ser biologia: {prob_qui}\")"
   ]
  },
  {
   "cell_type": "code",
   "execution_count": 67,
   "metadata": {},
   "outputs": [],
   "source": [
    "# Todas as frases do df Treino:\n",
    "frases_train = train['Comment']\n",
    "\n",
    "# Todas as frases do df Teste:\n",
    "frases_test = test['Comment']"
   ]
  },
  {
   "cell_type": "code",
   "execution_count": 70,
   "metadata": {},
   "outputs": [
    {
     "name": "stdout",
     "output_type": "stream",
     "text": [
      "Boot       Chemistry   Physics\n",
      "Topic                         \n",
      "Chemistry   0.517429  0.038286\n",
      "Physics     0.092000  0.352286\n"
     ]
    }
   ],
   "source": [
    "topico_esperado = []\n",
    "\n",
    "for frase in frases_train:\n",
    "\n",
    "    prob_fis = calcula_prob(frase, palavras_fis, total_palavras_fis, todas_palavras)\n",
    "    prob_qui = calcula_prob(frase, palavras_qui, total_palavras_qui, todas_palavras)\n",
    "\n",
    "    if prob_fis > prob_qui:\n",
    "        topico_esperado.append(\"Physics\")\n",
    "    else:\n",
    "        topico_esperado.append(\"Chemistry\")\n",
    "\n",
    "train['Boot'] = topico_esperado\n",
    "\n",
    "tabela_frequencia_relativa = pd.crosstab(train['Topic'], train['Boot'], normalize = True)\n",
    "\n",
    "print(tabela_frequencia_relativa)"
   ]
  },
  {
   "cell_type": "code",
   "execution_count": 71,
   "metadata": {},
   "outputs": [
    {
     "name": "stdout",
     "output_type": "stream",
     "text": [
      "Boot       Chemistry   Physics\n",
      "Topic                         \n",
      "Chemistry      0.448  0.126667\n",
      "Physics        0.132  0.293333\n"
     ]
    }
   ],
   "source": [
    "topico_esperado = []\n",
    "\n",
    "for frase in frases_test:\n",
    "\n",
    "    prob_fis = calcula_prob(frase, palavras_fis, total_palavras_fis, todas_palavras)\n",
    "    prob_qui = calcula_prob(frase, palavras_qui, total_palavras_qui, todas_palavras)\n",
    "\n",
    "    if prob_fis > prob_qui:\n",
    "        topico_esperado.append(\"Physics\")\n",
    "    else:\n",
    "        topico_esperado.append(\"Chemistry\")\n",
    "\n",
    "test['Boot'] = topico_esperado\n",
    "\n",
    "tabela_frequencia_relativa = pd.crosstab(test['Topic'], test['Boot'], normalize = True)\n",
    "\n",
    "print(tabela_frequencia_relativa)"
   ]
  },
  {
   "cell_type": "markdown",
   "metadata": {},
   "source": [
    "___\n",
    "### Verificando a performance do Classificador\n",
    "\n",
    "Agora você deve testar o seu classificador com a base de Testes."
   ]
  },
  {
   "cell_type": "markdown",
   "metadata": {},
   "source": [
    "#### <p style = 'color: green;'> <strong> Classificador: </strong>"
   ]
  },
  {
   "cell_type": "markdown",
   "metadata": {},
   "source": [
    "___\n",
    "### Concluindo"
   ]
  },
  {
   "cell_type": "code",
   "execution_count": null,
   "metadata": {},
   "outputs": [],
   "source": []
  },
  {
   "cell_type": "code",
   "execution_count": null,
   "metadata": {},
   "outputs": [],
   "source": []
  },
  {
   "cell_type": "code",
   "execution_count": null,
   "metadata": {},
   "outputs": [],
   "source": []
  },
  {
   "cell_type": "markdown",
   "metadata": {},
   "source": [
    "___\n",
    "### Qualidade do Classificador a partir de novas separações das mensagens entre Treinamento e Teste\n",
    "\n",
    "Caso for fazer esse item do Projeto"
   ]
  },
  {
   "cell_type": "code",
   "execution_count": null,
   "metadata": {},
   "outputs": [],
   "source": []
  },
  {
   "cell_type": "code",
   "execution_count": null,
   "metadata": {},
   "outputs": [],
   "source": []
  },
  {
   "cell_type": "code",
   "execution_count": null,
   "metadata": {},
   "outputs": [],
   "source": []
  },
  {
   "cell_type": "markdown",
   "metadata": {},
   "source": [
    "___\n",
    "## Aperfeiçoamento:\n",
    "\n",
    "Leia atentamente a rubrica colocada no enunciado do Projeto 1 (última página). <br>\n",
    "Trabalhos que conseguirem pelo menos conceito B vão evoluir em conceito dependendo da quantidade de itens avançados:\n",
    "\n",
    "* IMPLEMENTOU outras limpezas e transformações que não afetem a qualidade da informação contida nas mensagens, mas tendem a melhorar na classificação das mensagens. Ex: stemming, lemmatization, stopwords.\n",
    "* CONSIDEROU arquivo com três categorias na classificação das variáveis (OBRIGATÓRIO PARA QUARTETOS, sem contar como item avançado)\n",
    "* CONSTRUIU o cálculo das probabilidades corretamente utilizando bigramas E apresentou referência sobre o método utilizado.\n",
    "* EXPLICOU porquê não pode usar novas mensagens classificadas pelo próprio classificador como amostra de treinamento\n",
    "* PROPÔS diferentes cenários para Naïve Bayes fora do contexto do projeto (pelo menos dois cenários diferentes, exceto aqueles já apresentados em sala pelos professores: por exemplo, filtro de spam)\n",
    "* REFLETE criticamente sobre os resultados obtidos, identificando limitações do modelo e sugerindo possíveis melhorias ou diferentes abordagens com indicações concretas de como implementar (indicar como fazer e indicar material de pesquisa).\n",
    "* DOCUMENTOU bem o código, com explicações claras para cada etapa do processo, incluindo o raciocínio por trás das decisões de modelagem e das transformações de dados.\n"
   ]
  },
  {
   "cell_type": "markdown",
   "metadata": {},
   "source": [
    "___\n",
    "## Referências"
   ]
  },
  {
   "cell_type": "markdown",
   "metadata": {},
   "source": [
    "[Naive Bayes and Text Classification](https://arxiv.org/pdf/1410.5329.pdf)  **Mais completo**\n",
    "\n",
    "[Natural Language Processing (Part 17)-Laplacian Smoothing](https://medium.com/@Coursesteach/natural-language-processing-part-17-laplacian-smoothing-7d4be71d0ded) **Mais simples**"
   ]
  },
  {
   "cell_type": "code",
   "execution_count": null,
   "metadata": {},
   "outputs": [],
   "source": []
  }
 ],
 "metadata": {
  "kernelspec": {
   "display_name": "Python 3 (ipykernel)",
   "language": "python",
   "name": "python3"
  },
  "language_info": {
   "codemirror_mode": {
    "name": "ipython",
    "version": 3
   },
   "file_extension": ".py",
   "mimetype": "text/x-python",
   "name": "python",
   "nbconvert_exporter": "python",
   "pygments_lexer": "ipython3",
   "version": "3.11.5"
  }
 },
 "nbformat": 4,
 "nbformat_minor": 4
}
